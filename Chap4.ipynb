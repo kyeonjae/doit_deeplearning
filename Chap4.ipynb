{
  "nbformat": 4,
  "nbformat_minor": 0,
  "metadata": {
    "colab": {
      "name": "Chap4.ipynb",
      "provenance": [],
      "collapsed_sections": [],
      "authorship_tag": "ABX9TyOPRY9OEC6GDR0bJrZGhIav",
      "include_colab_link": true
    },
    "kernelspec": {
      "name": "python3",
      "display_name": "Python 3"
    },
    "language_info": {
      "name": "python"
    }
  },
  "cells": [
    {
      "cell_type": "markdown",
      "metadata": {
        "id": "view-in-github",
        "colab_type": "text"
      },
      "source": [
        "<a href=\"https://colab.research.google.com/github/kyeonjae/doit_deeplearning/blob/main/Chap4.ipynb\" target=\"_parent\"><img src=\"https://colab.research.google.com/assets/colab-badge.svg\" alt=\"Open In Colab\"/></a>"
      ]
    },
    {
      "cell_type": "markdown",
      "metadata": {
        "id": "nsJ9NDsZp1lm"
      },
      "source": [
        "# Chap4 이진분류"
      ]
    },
    {
      "cell_type": "markdown",
      "metadata": {
        "id": "AKvifE0Sp-c5"
      },
      "source": [
        "# 04-1 초기 인공지능 알고리즘과 로지스틱 회귀"
      ]
    },
    {
      "cell_type": "markdown",
      "metadata": {
        "id": "pVP2xwQkp-iX"
      },
      "source": [
        "# 04-2 시그모이드 함수로 확률 만들기"
      ]
    },
    {
      "cell_type": "markdown",
      "metadata": {
        "id": "BDp_iXOzygQ4"
      },
      "source": [
        "# 04-3 로지스틱 손실 함수를 경사하강법에 적용하기\n",
        "\n",
        "분류의 정확도:\n",
        "\n",
        "미분 가능한 함수가 아님 대신 이진 크로스 엔트로피 또는 로지스틱 손실함수를 사용함.\n",
        "\n",
        "제곱 오차의 미분과 로지스틱 손실 함수의 미분값은 동일함!"
      ]
    },
    {
      "cell_type": "markdown",
      "metadata": {
        "id": "fb9fVd825cas"
      },
      "source": [
        "# 04-4 분류용 데이터 세트 준비"
      ]
    },
    {
      "cell_type": "code",
      "metadata": {
        "id": "1DqLK1SjpzqA"
      },
      "source": [
        "from sklearn.datasets import load_breast_cancer\n",
        "cancer = load_breast_cancer()"
      ],
      "execution_count": null,
      "outputs": []
    },
    {
      "cell_type": "code",
      "metadata": {
        "colab": {
          "base_uri": "https://localhost:8080/"
        },
        "id": "mR43w_cWqHYh",
        "outputId": "a4c0e891-f8c5-4fc8-845f-788cc8e22a51"
      },
      "source": [
        "print(cancer.data.shape, cancer.target.shape)"
      ],
      "execution_count": null,
      "outputs": [
        {
          "output_type": "stream",
          "text": [
            "(569, 30) (569,)\n"
          ],
          "name": "stdout"
        }
      ]
    },
    {
      "cell_type": "code",
      "metadata": {
        "colab": {
          "base_uri": "https://localhost:8080/"
        },
        "id": "P8v-ZEWv57wz",
        "outputId": "afd6fb86-1e53-4101-bf67-6babbb9e8eb3"
      },
      "source": [
        "cancer.data[0:3]"
      ],
      "execution_count": null,
      "outputs": [
        {
          "output_type": "execute_result",
          "data": {
            "text/plain": [
              "array([[1.799e+01, 1.038e+01, 1.228e+02, 1.001e+03, 1.184e-01, 2.776e-01,\n",
              "        3.001e-01, 1.471e-01, 2.419e-01, 7.871e-02, 1.095e+00, 9.053e-01,\n",
              "        8.589e+00, 1.534e+02, 6.399e-03, 4.904e-02, 5.373e-02, 1.587e-02,\n",
              "        3.003e-02, 6.193e-03, 2.538e+01, 1.733e+01, 1.846e+02, 2.019e+03,\n",
              "        1.622e-01, 6.656e-01, 7.119e-01, 2.654e-01, 4.601e-01, 1.189e-01],\n",
              "       [2.057e+01, 1.777e+01, 1.329e+02, 1.326e+03, 8.474e-02, 7.864e-02,\n",
              "        8.690e-02, 7.017e-02, 1.812e-01, 5.667e-02, 5.435e-01, 7.339e-01,\n",
              "        3.398e+00, 7.408e+01, 5.225e-03, 1.308e-02, 1.860e-02, 1.340e-02,\n",
              "        1.389e-02, 3.532e-03, 2.499e+01, 2.341e+01, 1.588e+02, 1.956e+03,\n",
              "        1.238e-01, 1.866e-01, 2.416e-01, 1.860e-01, 2.750e-01, 8.902e-02],\n",
              "       [1.969e+01, 2.125e+01, 1.300e+02, 1.203e+03, 1.096e-01, 1.599e-01,\n",
              "        1.974e-01, 1.279e-01, 2.069e-01, 5.999e-02, 7.456e-01, 7.869e-01,\n",
              "        4.585e+00, 9.403e+01, 6.150e-03, 4.006e-02, 3.832e-02, 2.058e-02,\n",
              "        2.250e-02, 4.571e-03, 2.357e+01, 2.553e+01, 1.525e+02, 1.709e+03,\n",
              "        1.444e-01, 4.245e-01, 4.504e-01, 2.430e-01, 3.613e-01, 8.758e-02]])"
            ]
          },
          "metadata": {
            "tags": []
          },
          "execution_count": 3
        }
      ]
    },
    {
      "cell_type": "code",
      "metadata": {
        "colab": {
          "base_uri": "https://localhost:8080/",
          "height": 279
        },
        "id": "6-3fn85P6EF7",
        "outputId": "e0681059-4e7d-4b69-8b80-6432989d821a"
      },
      "source": [
        "import matplotlib.pyplot as plt\n",
        "import numpy as np\n",
        "\n",
        "plt.boxplot(cancer.data)\n",
        "plt.xlabel('feature')\n",
        "plt.ylabel('value')\n",
        "plt.show()"
      ],
      "execution_count": null,
      "outputs": [
        {
          "output_type": "display_data",
          "data": {
            "image/png": "[encoded data removed]",
            "text/plain": [
              "<Figure size 432x288 with 1 Axes>"
            ]
          },
          "metadata": {
            "tags": [],
            "needs_background": "light"
          }
        }
      ]
    },
    {
      "cell_type": "code",
      "metadata": {
        "colab": {
          "base_uri": "https://localhost:8080/"
        },
        "id": "xW0JGNz56Tlb",
        "outputId": "b02cc04e-24ea-45cb-d957-b0df22bad025"
      },
      "source": [
        "cancer.feature_names[[3,13,23]]"
      ],
      "execution_count": null,
      "outputs": [
        {
          "output_type": "execute_result",
          "data": {
            "text/plain": [
              "array(['mean area', 'area error', 'worst area'], dtype='<U23')"
            ]
          },
          "metadata": {
            "tags": []
          },
          "execution_count": 5
        }
      ]
    },
    {
      "cell_type": "code",
      "metadata": {
        "colab": {
          "base_uri": "https://localhost:8080/"
        },
        "id": "IHGzjgQT6bJr",
        "outputId": "20df975e-781b-4c06-8821-7388c0a7e421"
      },
      "source": [
        "np.unique(cancer.target, return_counts=True)"
      ],
      "execution_count": null,
      "outputs": [
        {
          "output_type": "execute_result",
          "data": {
            "text/plain": [
              "(array([0, 1]), array([212, 357]))"
            ]
          },
          "metadata": {
            "tags": []
          },
          "execution_count": 6
        }
      ]
    },
    {
      "cell_type": "code",
      "metadata": {
        "id": "vJ2krTw86lP7"
      },
      "source": [
        "# 훈련 데이터 세트 저장\n",
        "x = cancer.data\n",
        "y = cancer.target"
      ],
      "execution_count": null,
      "outputs": []
    },
    {
      "cell_type": "markdown",
      "metadata": {
        "id": "xDCZESe-6156"
      },
      "source": [
        "# 04-5 로지스틱 회귀를 위한 뉴런 만들기"
      ]
    },
    {
      "cell_type": "code",
      "metadata": {
        "id": "37MlSUoC6rMz"
      },
      "source": [
        "# 훈련 세트와 테스트 세트로 나누기\n",
        "from sklearn.model_selection import train_test_split\n",
        "\n",
        "x_train, x_test, y_train, y_test = train_test_split(x, y, stratify=y, test_size=0.2, random_state=42)"
      ],
      "execution_count": null,
      "outputs": []
    },
    {
      "cell_type": "code",
      "metadata": {
        "colab": {
          "base_uri": "https://localhost:8080/"
        },
        "id": "1BnnWl4A7ZEE",
        "outputId": "145c3e23-4503-4d6d-83d4-5b154f51a132"
      },
      "source": [
        "# 제대로 나누어졌는지 확인\n",
        "print(x_train.shape, x_test.shape)\n",
        "\n",
        "np.unique(y_train, return_counts=True)"
      ],
      "execution_count": null,
      "outputs": [
        {
          "output_type": "stream",
          "text": [
            "(455, 30) (114, 30)\n"
          ],
          "name": "stdout"
        },
        {
          "output_type": "execute_result",
          "data": {
            "text/plain": [
              "(array([0, 1]), array([170, 285]))"
            ]
          },
          "metadata": {
            "tags": []
          },
          "execution_count": 9
        }
      ]
    },
    {
      "cell_type": "code",
      "metadata": {
        "id": "P4g7-2n37hFj"
      },
      "source": [
        "# 로지스틱 회귀 구현하기\n",
        "class LogisticNueron:\n",
        "  \n",
        "  def __init__(self):\n",
        "    self.w = None\n",
        "    self.b = None\n",
        "  \n",
        "  def forpass(self, x):\n",
        "    z = np.sum(x * self.w) + self.b\n",
        "    return z\n",
        "  \n",
        "  def backprop(self, x, err):\n",
        "    w_grad = x * err\n",
        "    b_grad = 1 * err\n",
        "    return w_grad, b_grad\n",
        "  \n",
        "  def fit(self, x, y, epochs=100):\n",
        "    self.w = np.ones(x.shape[1])\n",
        "    self.b = 0\n",
        "    for i in range(epochs):\n",
        "      for x_i, y_i in zip(x, y):\n",
        "        z = self.forpass(x_i)\n",
        "        a = self.activation(z)\n",
        "        err = -(y_i - a)\n",
        "        w_grad, b_grad = self.backprop(x_i, err)\n",
        "        self.w -= w_grad\n",
        "        self.b -= b_grad\n",
        "  \n",
        "  def activation(self, z):\n",
        "    a = 1 / (1+ np.exp(-z)) # 시그모이드 계산\n",
        "    return a\n",
        "  \n",
        "  def predict(self, x):\n",
        "    z = [self.forpass(x_i) for x_i in x]\n",
        "    a = self.activation(np.array(z))\n",
        "    return a > 0.5"
      ],
      "execution_count": null,
      "outputs": []
    },
    {
      "cell_type": "code",
      "metadata": {
        "colab": {
          "base_uri": "https://localhost:8080/"
        },
        "id": "j8D9U1VK8rYS",
        "outputId": "6a855a65-915d-49f8-f6f7-73f96380278a"
      },
      "source": [
        "# 모델 훈련하기\n",
        "neuron = LogisticNueron()\n",
        "neuron.fit(x_train, y_train)"
      ],
      "execution_count": null,
      "outputs": [
        {
          "output_type": "stream",
          "text": [
            "/usr/local/lib/python3.7/dist-packages/ipykernel_launcher.py:30: RuntimeWarning: overflow encountered in exp\n"
          ],
          "name": "stderr"
        }
      ]
    },
    {
      "cell_type": "code",
      "metadata": {
        "colab": {
          "base_uri": "https://localhost:8080/"
        },
        "id": "myzPb6ZS8skL",
        "outputId": "16828ef5-0f2e-4b51-ae98-b7ec364d12f4"
      },
      "source": [
        "np.mean(neuron.predict(x_test) == y_test)"
      ],
      "execution_count": null,
      "outputs": [
        {
          "output_type": "stream",
          "text": [
            "/usr/local/lib/python3.7/dist-packages/ipykernel_launcher.py:30: RuntimeWarning: overflow encountered in exp\n"
          ],
          "name": "stderr"
        },
        {
          "output_type": "execute_result",
          "data": {
            "text/plain": [
              "0.8245614035087719"
            ]
          },
          "metadata": {
            "tags": []
          },
          "execution_count": 12
        }
      ]
    },
    {
      "cell_type": "markdown",
      "metadata": {
        "id": "oKRFTsk1_IeM"
      },
      "source": [
        "# 04-6 로지스틱 회귀 뉴런으로 단일층 신경망 만들기"
      ]
    },
    {
      "cell_type": "code",
      "metadata": {
        "id": "yNmhOAAb-oAC"
      },
      "source": [
        "# LogisticNueron 클래스를 복사해 SingleLayer로 바꾸기\n",
        "class Singlelayer:\n",
        "  \n",
        "  def __init__(self):\n",
        "    self.w = None\n",
        "    self.b = None\n",
        "    self.losses = []\n",
        "  \n",
        "  def forpass(self, x):\n",
        "    z = np.sum(x * self.w) + self.b\n",
        "    return z\n",
        "  \n",
        "  def backprop(self, x, err):\n",
        "    w_grad = x * err\n",
        "    b_grad = 1 * err\n",
        "    return w_grad, b_grad\n",
        "  \n",
        "  def fit(self, x, y, epochs=100):\n",
        "    self.w = np.ones(x.shape[1])\n",
        "    self.b = 0\n",
        "    for i in range(epochs):\n",
        "      loss = 0\n",
        "      indexes = np.random.permutation(np.arange(len(x)))\n",
        "      for i in indexes:\n",
        "        z = self.forpass(x[i])\n",
        "        a = self.activation(z)\n",
        "        err = -(y[i] - a)\n",
        "        w_grad, b_grad = self.backprop(x[i], err)\n",
        "        self.w -= w_grad\n",
        "        self.b -= b_grad\n",
        "\n",
        "        # 안전한 로그 계산을 위해 클리핑한 후 손실을 누적함\n",
        "        a = np.clip(a, 1e-10, 1-1e-10)\n",
        "        loss += -(y[i]*np.log(a)+(1-y[i])*np.log(1-a)) # 에포크마다 평균 손실 저장\n",
        "      self.losses.append(loss/len(y))\n",
        "  \n",
        "  def activation(self, z):\n",
        "    a = 1 / (1+ np.exp(-z)) # 시그모이드 계산\n",
        "    return a\n",
        "  \n",
        "  def predict(self, x):\n",
        "    z = [self.forpass(x_i) for x_i in x]\n",
        "    a = self.activation(np.array(z))\n",
        "    return a > 0.5\n",
        "\n",
        "  def score(self, x, y):\n",
        "    return np.mean(self.predict(x) == y)"
      ],
      "execution_count": null,
      "outputs": []
    },
    {
      "cell_type": "code",
      "metadata": {
        "colab": {
          "base_uri": "https://localhost:8080/"
        },
        "id": "ebF1bg_UBkRr",
        "outputId": "4495a6d0-9590-4775-9804-5642aba38bdf"
      },
      "source": [
        "# 단일층 신경망 훈련하기\n",
        "layer = Singlelayer()\n",
        "layer.fit(x_train, y_train)\n",
        "layer.score(x_test, y_test)"
      ],
      "execution_count": null,
      "outputs": [
        {
          "output_type": "stream",
          "text": [
            "/usr/local/lib/python3.7/dist-packages/ipykernel_launcher.py:38: RuntimeWarning: overflow encountered in exp\n"
          ],
          "name": "stderr"
        },
        {
          "output_type": "execute_result",
          "data": {
            "text/plain": [
              "0.9298245614035088"
            ]
          },
          "metadata": {
            "tags": []
          },
          "execution_count": 14
        }
      ]
    },
    {
      "cell_type": "code",
      "metadata": {
        "colab": {
          "base_uri": "https://localhost:8080/"
        },
        "id": "aIN3kYL9Cd6y",
        "outputId": "fe217050-d1b7-4559-908e-144ddad9304e"
      },
      "source": [
        "layer.losses"
      ],
      "execution_count": null,
      "outputs": [
        {
          "output_type": "execute_result",
          "data": {
            "text/plain": [
              "[8.299427578360687,\n",
              " 6.0727518858649026,\n",
              " 5.516082962831879,\n",
              " 4.706382711445052,\n",
              " 3.997894990890575,\n",
              " 4.250926319789921,\n",
              " 4.099107522268467,\n",
              " 3.744863661991231,\n",
              " 4.200320053646358,\n",
              " 3.491832333273732,\n",
              " 3.9472887249288617,\n",
              " 4.301532585206097,\n",
              " 3.7448636616275413,\n",
              " 3.6436511307951878,\n",
              " 4.149713787684645,\n",
              " 3.9978949903450385,\n",
              " 3.188194739321908,\n",
              " 2.732738347666781,\n",
              " 3.2894072705179513,\n",
              " 3.1881947389582175,\n",
              " 4.099107521722929,\n",
              " 3.5424385990536003,\n",
              " 3.542438599053606,\n",
              " 2.8339508792265162,\n",
              " 3.2894072705179465,\n",
              " 2.6821320818869125,\n",
              " 2.7327383476667775,\n",
              " 2.6821320820687617,\n",
              " 2.78334461344665,\n",
              " 3.238801004556239,\n",
              " 2.93516341024072,\n",
              " 3.542438598871752,\n",
              " 2.5809195505090083,\n",
              " 2.7327383476667726,\n",
              " 2.985769676202426,\n",
              " 3.18819473914006,\n",
              " 3.5930448644697814,\n",
              " 2.83395087886282,\n",
              " 3.4412260674938717,\n",
              " 2.8339508792265167,\n",
              " 2.7833446132647914,\n",
              " 3.0869822073984805,\n",
              " 3.2894072705179562,\n",
              " 3.1375884733601933,\n",
              " 2.530313284729141,\n",
              " 2.7327383476667775,\n",
              " 3.5930448646516244,\n",
              " 3.2894072705179465,\n",
              " 2.6315258161070414,\n",
              " 2.4797070189492736,\n",
              " 2.935163410240716,\n",
              " 3.5424385988717533,\n",
              " 2.7833446132647923,\n",
              " 2.9857696763842756,\n",
              " 2.935163410240715,\n",
              " 3.289407270336101,\n",
              " 2.732738347484932,\n",
              " 2.6821320818869085,\n",
              " 2.9857696763842734,\n",
              " 3.441226067493865,\n",
              " 2.5809195506908593,\n",
              " 3.0869822075803177,\n",
              " 3.1375884731783477,\n",
              " 2.5303132847291474,\n",
              " 2.6315258162888866,\n",
              " 2.2266756905954717,\n",
              " 3.086982207580325,\n",
              " 2.884557144460841,\n",
              " 3.086982207580316,\n",
              " 2.682132081886909,\n",
              " 2.682132081705065,\n",
              " 3.5424385988717613,\n",
              " 2.7327383476667744,\n",
              " 2.833950879044669,\n",
              " 2.5303132847291465,\n",
              " 2.5303132849109935,\n",
              " 3.188194738776367,\n",
              " 2.5809195503271694,\n",
              " 2.530313284910995,\n",
              " 2.8845571446426934,\n",
              " 2.5303132845473,\n",
              " 2.8339508792265056,\n",
              " 2.8845571446426934,\n",
              " 3.2388010047380886,\n",
              " 3.0363759418004515,\n",
              " 3.1375884733601924,\n",
              " 3.0363759416186036,\n",
              " 2.3784944875713823,\n",
              " 2.783344613264795,\n",
              " 2.682132081886909,\n",
              " 2.4797070189492803,\n",
              " 2.935163410604413,\n",
              " 2.6315258159251904,\n",
              " 2.3784944875713827,\n",
              " 2.5809195505090186,\n",
              " 2.783344613264803,\n",
              " 2.9351634100588697,\n",
              " 2.8845571446426947,\n",
              " 3.137588472996498,\n",
              " 2.732738347666781]"
            ]
          },
          "metadata": {
            "tags": []
          },
          "execution_count": 15
        }
      ]
    },
    {
      "cell_type": "code",
      "metadata": {
        "colab": {
          "base_uri": "https://localhost:8080/",
          "height": 279
        },
        "id": "7Elo6VqsBrwx",
        "outputId": "59e2fad5-2fb3-4570-b167-5e8b547e7dd4"
      },
      "source": [
        "# 손실함수 누적값 확인\n",
        "plt.plot(layer.losses)\n",
        "plt.xlabel('epoch')\n",
        "plt.ylabel('loss')\n",
        "plt.show()"
      ],
      "execution_count": null,
      "outputs": [
        {
          "output_type": "display_data",
          "data": {
            "image/png": "[encoded data removed]",
            "text/plain": [
              "<Figure size 432x288 with 1 Axes>"
            ]
          },
          "metadata": {
            "tags": [],
            "needs_background": "light"
          }
        }
      ]
    },
    {
      "cell_type": "markdown",
      "metadata": {
        "id": "vJKOLTEwDc7q"
      },
      "source": [
        "# 04-7 사이킷런으로 로지스틱 회귀를 수행"
      ]
    },
    {
      "cell_type": "code",
      "metadata": {
        "id": "xbezh7yoCBVy"
      },
      "source": [
        "from sklearn.linear_model import SGDClassifier\n",
        "# 로지스틱 손실 함수 지정\n",
        "\n",
        "sgd = SGDClassifier(loss='log', max_iter=100, tol=1e-3, random_state=42)"
      ],
      "execution_count": null,
      "outputs": []
    },
    {
      "cell_type": "code",
      "metadata": {
        "colab": {
          "base_uri": "https://localhost:8080/"
        },
        "id": "C34Wuh-4Dpqx",
        "outputId": "758329a5-bf26-4c2e-dcd3-4a611b12fee5"
      },
      "source": [
        "sgd.fit(x_train, y_train)\n",
        "sgd.score(x_test, y_test)"
      ],
      "execution_count": null,
      "outputs": [
        {
          "output_type": "execute_result",
          "data": {
            "text/plain": [
              "0.8333333333333334"
            ]
          },
          "metadata": {
            "tags": []
          },
          "execution_count": 22
        }
      ]
    },
    {
      "cell_type": "code",
      "metadata": {
        "colab": {
          "base_uri": "https://localhost:8080/"
        },
        "id": "_DHxQiDWEPci",
        "outputId": "284d2dcf-18ac-401b-c2ba-beb3a9e3a7b2"
      },
      "source": [
        "sgd.predict(x_test[0:10])"
      ],
      "execution_count": null,
      "outputs": [
        {
          "output_type": "execute_result",
          "data": {
            "text/plain": [
              "array([0, 1, 0, 0, 0, 0, 1, 0, 0, 0])"
            ]
          },
          "metadata": {
            "tags": []
          },
          "execution_count": 23
        }
      ]
    },
    {
      "cell_type": "code",
      "metadata": {
        "colab": {
          "base_uri": "https://localhost:8080/"
        },
        "id": "6icXMF8bETRp",
        "outputId": "84fe6fc0-9c62-4a8a-ec5a-18de0edd2002"
      },
      "source": [
        "y_test[0:10]"
      ],
      "execution_count": null,
      "outputs": [
        {
          "output_type": "execute_result",
          "data": {
            "text/plain": [
              "array([0, 1, 0, 1, 0, 1, 1, 0, 0, 0])"
            ]
          },
          "metadata": {
            "tags": []
          },
          "execution_count": 24
        }
      ]
    },
    {
      "cell_type": "code",
      "metadata": {
        "id": "_NAzQlfTEVW5"
      },
      "source": [
        ""
      ],
      "execution_count": null,
      "outputs": []
    }
  ]
}